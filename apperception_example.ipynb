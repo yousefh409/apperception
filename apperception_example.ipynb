{
 "cells": [
  {
   "cell_type": "code",
   "execution_count": 1,
   "id": "11bdc8b7",
   "metadata": {},
   "outputs": [],
   "source": [
    "import os\n",
    "import sys\n",
    "sys.path.append(os.path.join(os.getcwd(),\"apperception\"))\n",
    "\n",
    "### IMPORTS\n",
    "import cv2\n",
    "\n",
    "from world import *\n",
    "from world_executor import *\n",
    "from video_util import *\n",
    "from metadata_util import *\n",
    "import lens\n",
    "import point\n",
    "\n"
   ]
  },
  {
   "cell_type": "code",
   "execution_count": 2,
   "id": "7caaea7d",
   "metadata": {},
   "outputs": [],
   "source": [
    "### Let's define some attribute for constructing the world first\n",
    "name = 'traffic_scene' # world name\n",
    "units = 'metrics'      # world units\n",
    "video_file = \"./amber_videos/traffic-scene-very-short.mp4\" #example video file\n",
    "lens_attrs = {'fov': 120, \n",
    "              'cam_origin': (0, 0, 0), \n",
    "              'skew_factor': 0}\n",
    "point_attrs = {'p_id': 'p1', \n",
    "               'cam_id': 'cam1', \n",
    "               'x': 0,\n",
    "               'y': 0, \n",
    "               'z': 0,\n",
    "               'time': None, \n",
    "               'type':'pos'}\n",
    "camera_attrs = {'ratio': 0.5}\n",
    "fps = 30\n"
   ]
  },
  {
   "cell_type": "code",
   "execution_count": 3,
   "id": "6f1e2f99",
   "metadata": {},
   "outputs": [
    {
     "name": "stdout",
     "output_type": "stream",
     "text": [
      "world-0-1634744267.9488242\n"
     ]
    }
   ],
   "source": [
    "### First we define a world\n",
    "traffic_world = World(name=name, units=units)\n",
    "\n",
    "print(traffic_world.VideoContext.name)\n",
    "\n",
    "### Use TASM if it's available on the machine\n",
    "# traffic_world = World(name=name, units=units, enable_tasm=True)"
   ]
  },
  {
   "cell_type": "code",
   "execution_count": 4,
   "id": "033ac22b",
   "metadata": {},
   "outputs": [],
   "source": [
    "### Secondly we construct the camera\n",
    "fov, res, cam_origin, skew_factor = lens_attrs['fov'], [1280, 720], lens_attrs['cam_origin'], lens_attrs['skew_factor']\n",
    "cam_lens = lens.PinholeLens(res, cam_origin, fov, skew_factor)\n",
    "\n",
    "pt_id, cam_id, x, y, z, time, pt_type = point_attrs['p_id'], point_attrs['cam_id'], point_attrs['x'], point_attrs['y'], point_attrs['z'], point_attrs['time'], point_attrs['type']\n",
    "location = point.Point(pt_id, cam_id, x, y, z, time, pt_type)\n",
    "\n",
    "ratio = camera_attrs['ratio']"
   ]
  },
  {
   "cell_type": "code",
   "execution_count": 5,
   "id": "480c566f",
   "metadata": {},
   "outputs": [],
   "source": [
    "### Ingest the camera to the world\n",
    "traffic_world = traffic_world.camera(cam_id=cam_id, \n",
    "                               location=location, \n",
    "                               ratio=ratio, \n",
    "                               video_file=video_file, \n",
    "                               metadata_identifier=name+\"_\"+cam_id, \n",
    "                               lens=cam_lens)"
   ]
  },
  {
   "cell_type": "code",
   "execution_count": 6,
   "id": "9cb0a0b1",
   "metadata": {},
   "outputs": [
    {
     "name": "stdout",
     "output_type": "stream",
     "text": [
      "Worlds Table created successfully........\n",
      "New world inserted successfully........\n",
      "Camera Table created successfully........\n",
      "New camera inserted successfully.........\n",
      "# of tracked items: 10\n",
      "car-1 saved successfully\n",
      "car-2 saved successfully\n",
      "person-3 saved successfully\n",
      "person-4 saved successfully\n",
      "person-5 saved successfully\n",
      "traffic light-6 saved successfully\n",
      "traffic light-7 saved successfully\n",
      "person-10 saved successfully\n",
      "person-11 saved successfully\n",
      "car-12 saved successfully\n",
      "world-2-1634744267.971971\n"
     ]
    }
   ],
   "source": [
    "### Call execute on the world to run the detection algorithm and save the real data to the database\n",
    "recognized_world = traffic_world.recognize(cam_id)\n",
    "recognized_world.execute()\n",
    "print(recognized_world.VideoContext.name)\n",
    "# print(traffic_world.get_trajectory().execute())\n",
    "# print(traffic_world.get_camera())"
   ]
  },
  {
   "cell_type": "code",
   "execution_count": 11,
   "id": "9aea9d9c",
   "metadata": {},
   "outputs": [
    {
     "name": "stdout",
     "output_type": "stream",
     "text": [
      "world-1-1634744267.965821\n",
      "{'cam1': <video_context.Camera object at 0x7fa55210d8e0>}\n",
      "Module(body=[Return(value=Compare(left=Attribute(value=Name(id='obj', ctx=Load()), attr='object_type', ctx=Load()), ops=[Eq()], comparators=[Constant(value='car', kind=None)]))], type_ignores=[])\n",
      "Module(body=[Return(value=Compare(left=Attribute(value=Name(id='obj', ctx=Load()), attr='location', ctx=Load()), ops=[In()], comparators=[Name(id='volume', ctx=Load())]))], type_ignores=[])\n",
      "Module(body=[Return(value=Compare(left=Call(func=Name(id='Tmin', ctx=Load()), args=[Attribute(value=Name(id='obj', ctx=Load()), attr='location', ctx=Load())], keywords=[]), ops=[GtE()], comparators=[Name(id='start', ctx=Load())]))], type_ignores=[])\n",
      "Module(body=[Return(value=Compare(left=Call(func=Name(id='Tmax', ctx=Load()), args=[Attribute(value=Name(id='obj', ctx=Load()), attr='location', ctx=Load())], keywords=[]), ops=[Lt()], comparators=[Name(id='end', ctx=Load())]))], type_ignores=[])\n",
      "Worlds Table created successfully........\n",
      "New world inserted successfully........\n",
      "Camera Table created successfully........\n",
      "New camera inserted successfully.........\n",
      "SELECT distinct on(itemId) Item_General_Trajectory.itemId From Item_General_Trajectory INNER JOIN General_Bbox USING(itemId)  Where Item_General_Trajectory.objectType='car' AND overlap(General_Bbox.trajBbox, stbox 'STBOX Z((0.01082532, 2.59647246, 0),(3.01034039, 3.35985782, 2))')=true AND Tmin(General_Bbox.trajBbox)>='2021-06-08 07:10:28' AND Tmax(General_Bbox.trajBbox)<'2021-06-08 07:12:28';\n",
      "\n"
     ]
    },
    {
     "ename": "UndefinedFunction",
     "evalue": "function overlap(stbox, stbox) does not exist\nLINE 1: ...here Item_General_Trajectory.objectType='car' AND overlap(Ge...\n                                                             ^\nHINT:  No function matches the given name and argument types. You might need to add explicit type casts.\n",
     "output_type": "error",
     "traceback": [
      "\u001b[0;31m---------------------------------------------------------------------------\u001b[0m",
      "\u001b[0;31mUndefinedFunction\u001b[0m                         Traceback (most recent call last)",
      "\u001b[0;32m/var/folders/jk/04mdk5z529z3kdnl2cl6ty3h0000gn/T/ipykernel_8693/3963277519.py\u001b[0m in \u001b[0;36m<module>\u001b[0;34m\u001b[0m\n\u001b[1;32m      3\u001b[0m \u001b[0mprint\u001b[0m\u001b[0;34m(\u001b[0m\u001b[0mtraffic_world\u001b[0m\u001b[0;34m.\u001b[0m\u001b[0mVideoContext\u001b[0m\u001b[0;34m.\u001b[0m\u001b[0mname\u001b[0m\u001b[0;34m)\u001b[0m\u001b[0;34m\u001b[0m\u001b[0;34m\u001b[0m\u001b[0m\n\u001b[1;32m      4\u001b[0m \u001b[0mvolume\u001b[0m \u001b[0;34m=\u001b[0m \u001b[0mtraffic_world\u001b[0m\u001b[0;34m.\u001b[0m\u001b[0mselect_intersection_of_interest_or_use_default\u001b[0m\u001b[0;34m(\u001b[0m\u001b[0mcam_id\u001b[0m\u001b[0;34m=\u001b[0m\u001b[0mcam_id\u001b[0m\u001b[0;34m)\u001b[0m\u001b[0;34m\u001b[0m\u001b[0;34m\u001b[0m\u001b[0m\n\u001b[0;32m----> 5\u001b[0;31m \u001b[0mids\u001b[0m \u001b[0;34m=\u001b[0m \u001b[0mtraffic_world\u001b[0m\u001b[0;34m.\u001b[0m\u001b[0mpredicate\u001b[0m\u001b[0;34m(\u001b[0m\u001b[0;32mlambda\u001b[0m \u001b[0mobj\u001b[0m\u001b[0;34m:\u001b[0m\u001b[0mobj\u001b[0m\u001b[0;34m.\u001b[0m\u001b[0mobject_type\u001b[0m \u001b[0;34m==\u001b[0m \u001b[0;34m\"car\"\u001b[0m\u001b[0;34m)\u001b[0m\u001b[0;34m.\u001b[0m\u001b[0mpredicate\u001b[0m\u001b[0;34m(\u001b[0m\u001b[0;32mlambda\u001b[0m \u001b[0mobj\u001b[0m\u001b[0;34m:\u001b[0m\u001b[0mobj\u001b[0m\u001b[0;34m.\u001b[0m\u001b[0mlocation\u001b[0m \u001b[0;32min\u001b[0m \u001b[0mvolume\u001b[0m\u001b[0;34m,\u001b[0m \u001b[0;34m{\u001b[0m\u001b[0;34m\"volume\"\u001b[0m\u001b[0;34m:\u001b[0m\u001b[0mvolume\u001b[0m\u001b[0;34m}\u001b[0m\u001b[0;34m)\u001b[0m\u001b[0;34m.\u001b[0m\u001b[0minterval\u001b[0m\u001b[0;34m(\u001b[0m\u001b[0;34m[\u001b[0m\u001b[0;36m0\u001b[0m\u001b[0;34m,\u001b[0m\u001b[0mfps\u001b[0m\u001b[0;34m*\u001b[0m\u001b[0;36m4\u001b[0m\u001b[0;34m]\u001b[0m\u001b[0;34m)\u001b[0m\u001b[0;34m.\u001b[0m\u001b[0mselectkey\u001b[0m\u001b[0;34m(\u001b[0m\u001b[0mdistinct\u001b[0m \u001b[0;34m=\u001b[0m \u001b[0;32mTrue\u001b[0m\u001b[0;34m)\u001b[0m\u001b[0;34m.\u001b[0m\u001b[0mexecute\u001b[0m\u001b[0;34m(\u001b[0m\u001b[0;34m)\u001b[0m\u001b[0;34m\u001b[0m\u001b[0;34m\u001b[0m\u001b[0m\n\u001b[0m\u001b[1;32m      6\u001b[0m \u001b[0mids\u001b[0m\u001b[0;34m\u001b[0m\u001b[0;34m\u001b[0m\u001b[0m\n",
      "\u001b[0;32m~/Desktop/apperception/apperception/world.py\u001b[0m in \u001b[0;36mexecute\u001b[0;34m(self)\u001b[0m\n\u001b[1;32m    131\u001b[0m         \u001b[0;32melse\u001b[0m\u001b[0;34m:\u001b[0m\u001b[0;34m\u001b[0m\u001b[0;34m\u001b[0m\u001b[0m\n\u001b[1;32m    132\u001b[0m             \u001b[0mworld_executor\u001b[0m\u001b[0;34m.\u001b[0m\u001b[0mconnect_db\u001b[0m\u001b[0;34m(\u001b[0m\u001b[0muser\u001b[0m\u001b[0;34m=\u001b[0m\u001b[0;34m\"docker\"\u001b[0m\u001b[0;34m,\u001b[0m \u001b[0mpassword\u001b[0m\u001b[0;34m=\u001b[0m\u001b[0;34m\"docker\"\u001b[0m\u001b[0;34m,\u001b[0m \u001b[0mdatabase_name\u001b[0m\u001b[0;34m=\u001b[0m\u001b[0;34m\"mobilitydb\"\u001b[0m\u001b[0;34m)\u001b[0m\u001b[0;34m\u001b[0m\u001b[0;34m\u001b[0m\u001b[0m\n\u001b[0;32m--> 133\u001b[0;31m         \u001b[0;32mreturn\u001b[0m \u001b[0mworld_executor\u001b[0m\u001b[0;34m.\u001b[0m\u001b[0mexecute\u001b[0m\u001b[0;34m(\u001b[0m\u001b[0;34m)\u001b[0m\u001b[0;34m\u001b[0m\u001b[0;34m\u001b[0m\u001b[0m\n\u001b[0m\u001b[1;32m    134\u001b[0m \u001b[0;34m\u001b[0m\u001b[0m\n\u001b[1;32m    135\u001b[0m     \u001b[0;32mdef\u001b[0m \u001b[0mselect_intersection_of_interest_or_use_default\u001b[0m\u001b[0;34m(\u001b[0m\u001b[0mself\u001b[0m\u001b[0;34m,\u001b[0m \u001b[0mcam_id\u001b[0m\u001b[0;34m,\u001b[0m \u001b[0mdefault\u001b[0m\u001b[0;34m=\u001b[0m\u001b[0;32mTrue\u001b[0m\u001b[0;34m)\u001b[0m\u001b[0;34m:\u001b[0m\u001b[0;34m\u001b[0m\u001b[0;34m\u001b[0m\u001b[0m\n",
      "\u001b[0;32m~/Desktop/apperception/apperception/world_executor.py\u001b[0m in \u001b[0;36mexecute\u001b[0;34m(self)\u001b[0m\n\u001b[1;32m    109\u001b[0m \u001b[0;34m\u001b[0m\u001b[0m\n\u001b[1;32m    110\u001b[0m         \u001b[0mmetadata_executor\u001b[0m \u001b[0;34m=\u001b[0m \u001b[0mMetadataContextExecutor\u001b[0m\u001b[0;34m(\u001b[0m\u001b[0mself\u001b[0m\u001b[0;34m.\u001b[0m\u001b[0mconn\u001b[0m\u001b[0;34m,\u001b[0m \u001b[0mself\u001b[0m\u001b[0;34m.\u001b[0m\u001b[0mcurr_world\u001b[0m\u001b[0;34m.\u001b[0m\u001b[0mMetadataContext\u001b[0m\u001b[0;34m)\u001b[0m\u001b[0;34m\u001b[0m\u001b[0;34m\u001b[0m\u001b[0m\n\u001b[0;32m--> 111\u001b[0;31m         \u001b[0;32mreturn\u001b[0m \u001b[0mmetadata_executor\u001b[0m\u001b[0;34m.\u001b[0m\u001b[0mexecute\u001b[0m\u001b[0;34m(\u001b[0m\u001b[0;34m)\u001b[0m\u001b[0;34m\u001b[0m\u001b[0;34m\u001b[0m\u001b[0m\n\u001b[0m\u001b[1;32m    112\u001b[0m \u001b[0;34m\u001b[0m\u001b[0m\n\u001b[1;32m    113\u001b[0m \u001b[0;32mdef\u001b[0m \u001b[0mcreate_transform_matrix\u001b[0m\u001b[0;34m(\u001b[0m\u001b[0mfocal_x\u001b[0m\u001b[0;34m,\u001b[0m \u001b[0mfocal_y\u001b[0m\u001b[0;34m,\u001b[0m \u001b[0mcam_x\u001b[0m\u001b[0;34m,\u001b[0m \u001b[0mcam_y\u001b[0m\u001b[0;34m,\u001b[0m \u001b[0mskew_factor\u001b[0m\u001b[0;34m)\u001b[0m\u001b[0;34m:\u001b[0m\u001b[0;34m\u001b[0m\u001b[0;34m\u001b[0m\u001b[0m\n",
      "\u001b[0;32m~/Desktop/apperception/apperception/metadata_context_executor.py\u001b[0m in \u001b[0;36mexecute\u001b[0;34m(self, create_view, view_name)\u001b[0m\n\u001b[1;32m    104\u001b[0m     \u001b[0;32mdef\u001b[0m \u001b[0mexecute\u001b[0m\u001b[0;34m(\u001b[0m\u001b[0mself\u001b[0m\u001b[0;34m,\u001b[0m \u001b[0mcreate_view\u001b[0m \u001b[0;34m=\u001b[0m \u001b[0;32mFalse\u001b[0m\u001b[0;34m,\u001b[0m \u001b[0mview_name\u001b[0m\u001b[0;34m=\u001b[0m\u001b[0;34m\"\"\u001b[0m\u001b[0;34m)\u001b[0m\u001b[0;34m:\u001b[0m\u001b[0;34m\u001b[0m\u001b[0;34m\u001b[0m\u001b[0m\n\u001b[1;32m    105\u001b[0m         \u001b[0mself\u001b[0m\u001b[0;34m.\u001b[0m\u001b[0mcursor\u001b[0m \u001b[0;34m=\u001b[0m \u001b[0mself\u001b[0m\u001b[0;34m.\u001b[0m\u001b[0mconn\u001b[0m\u001b[0;34m.\u001b[0m\u001b[0mcursor\u001b[0m\u001b[0;34m(\u001b[0m\u001b[0;34m)\u001b[0m\u001b[0;34m\u001b[0m\u001b[0;34m\u001b[0m\u001b[0m\n\u001b[0;32m--> 106\u001b[0;31m         \u001b[0mself\u001b[0m\u001b[0;34m.\u001b[0m\u001b[0mcursor\u001b[0m\u001b[0;34m.\u001b[0m\u001b[0mexecute\u001b[0m\u001b[0;34m(\u001b[0m\u001b[0mself\u001b[0m\u001b[0;34m.\u001b[0m\u001b[0mvisit\u001b[0m\u001b[0;34m(\u001b[0m\u001b[0mcreate_view\u001b[0m\u001b[0;34m=\u001b[0m\u001b[0mcreate_view\u001b[0m\u001b[0;34m,\u001b[0m \u001b[0mview_name\u001b[0m\u001b[0;34m=\u001b[0m\u001b[0mview_name\u001b[0m\u001b[0;34m)\u001b[0m\u001b[0;34m)\u001b[0m\u001b[0;34m\u001b[0m\u001b[0;34m\u001b[0m\u001b[0m\n\u001b[0m\u001b[1;32m    107\u001b[0m         \u001b[0;32mreturn\u001b[0m \u001b[0mnp\u001b[0m\u001b[0;34m.\u001b[0m\u001b[0masarray\u001b[0m\u001b[0;34m(\u001b[0m\u001b[0mself\u001b[0m\u001b[0;34m.\u001b[0m\u001b[0mcursor\u001b[0m\u001b[0;34m.\u001b[0m\u001b[0mfetchall\u001b[0m\u001b[0;34m(\u001b[0m\u001b[0;34m)\u001b[0m\u001b[0;34m)\u001b[0m\u001b[0;34m\u001b[0m\u001b[0;34m\u001b[0m\u001b[0m\n\u001b[1;32m    108\u001b[0m \u001b[0;34m\u001b[0m\u001b[0m\n",
      "\u001b[0;31mUndefinedFunction\u001b[0m: function overlap(stbox, stbox) does not exist\nLINE 1: ...here Item_General_Trajectory.objectType='car' AND overlap(Ge...\n                                                             ^\nHINT:  No function matches the given name and argument types. You might need to add explicit type casts.\n"
     ]
    }
   ],
   "source": [
    "# print(traffic_world.get_trajectory())\n",
    "# print(traffic_world.get_camera())\n",
    "print(traffic_world.VideoContext.name)\n",
    "volume = traffic_world.select_intersection_of_interest_or_use_default(cam_id=cam_id)\n",
    "ids = traffic_world.predicate(lambda obj:obj.object_type == \"car\").predicate(lambda obj:obj.location in volume, {\"volume\":volume}).interval([0,fps*4]).selectkey(distinct = True).execute()\n",
    "ids"
   ]
  },
  {
   "cell_type": "code",
   "execution_count": 8,
   "id": "100f8952",
   "metadata": {},
   "outputs": [
    {
     "name": "stdout",
     "output_type": "stream",
     "text": [
      "{'cam1': <video_context.Camera object at 0x7fe6aaa40eb0>}\n",
      "Module(body=[Return(value=Compare(left=Attribute(value=Name(id='obj', ctx=Load()), attr='object_type', ctx=Load()), ops=[Eq()], comparators=[Constant(value='car', kind=None)]))], type_ignores=[])\n",
      "Module(body=[Return(value=Compare(left=Attribute(value=Name(id='obj', ctx=Load()), attr='location', ctx=Load()), ops=[In()], comparators=[Name(id='volume', ctx=Load())]))], type_ignores=[])\n",
      "Module(body=[Return(value=Compare(left=Call(func=Name(id='Tmin', ctx=Load()), args=[Attribute(value=Name(id='obj', ctx=Load()), attr='location', ctx=Load())], keywords=[]), ops=[GtE()], comparators=[Name(id='start', ctx=Load())]))], type_ignores=[])\n",
      "Module(body=[Return(value=Compare(left=Call(func=Name(id='Tmax', ctx=Load()), args=[Attribute(value=Name(id='obj', ctx=Load()), attr='location', ctx=Load())], keywords=[]), ops=[Lt()], comparators=[Name(id='end', ctx=Load())]))], type_ignores=[])\n",
      "Worlds Table created successfully........\n",
      "New world inserted successfully........\n",
      "Camera Table created successfully........\n",
      "New camera inserted successfully.........\n",
      "SELECT distinct on(itemId) Item_General_Trajectory.itemId From Item_General_Trajectory INNER JOIN General_Bbox USING(itemId)  Where Item_General_Trajectory.objectType='car' AND overlap(General_Bbox.trajBbox, stbox 'STBOX Z((0.01082532, 2.59647246, 0),(3.01034039, 3.35985782, 2))')=true AND Tmin(General_Bbox.trajBbox)>='2021-06-08 07:10:28' AND Tmax(General_Bbox.trajBbox)<'2021-06-08 07:12:28';\n",
      "\n"
     ]
    },
    {
     "ename": "UndefinedFunction",
     "evalue": "function overlap(stbox, stbox) does not exist\nLINE 1: ...here Item_General_Trajectory.objectType='car' AND overlap(Ge...\n                                                             ^\nHINT:  No function matches the given name and argument types. You might need to add explicit type casts.\n",
     "output_type": "error",
     "traceback": [
      "\u001b[0;31m---------------------------------------------------------------------------\u001b[0m",
      "\u001b[0;31mUndefinedFunction\u001b[0m                         Traceback (most recent call last)",
      "\u001b[0;32m/var/folders/jk/04mdk5z529z3kdnl2cl6ty3h0000gn/T/ipykernel_8051/3491364362.py\u001b[0m in \u001b[0;36m<module>\u001b[0;34m\u001b[0m\n\u001b[1;32m      4\u001b[0m \u001b[0;34m\u001b[0m\u001b[0m\n\u001b[1;32m      5\u001b[0m \u001b[0;31m### to get the trajectory and the video over the entire trajectory(amber case)\u001b[0m\u001b[0;34m\u001b[0m\u001b[0;34m\u001b[0m\u001b[0;34m\u001b[0m\u001b[0m\n\u001b[0;32m----> 6\u001b[0;31m \u001b[0mfiltered_ids\u001b[0m \u001b[0;34m=\u001b[0m \u001b[0mfiltered_world\u001b[0m\u001b[0;34m.\u001b[0m\u001b[0mselectkey\u001b[0m\u001b[0;34m(\u001b[0m\u001b[0mdistinct\u001b[0m \u001b[0;34m=\u001b[0m \u001b[0;32mTrue\u001b[0m\u001b[0;34m)\u001b[0m\u001b[0;34m.\u001b[0m\u001b[0mexecute\u001b[0m\u001b[0;34m(\u001b[0m\u001b[0;34m)\u001b[0m\u001b[0;34m\u001b[0m\u001b[0;34m\u001b[0m\u001b[0m\n\u001b[0m\u001b[1;32m      7\u001b[0m \u001b[0mprint\u001b[0m\u001b[0;34m(\u001b[0m\u001b[0;34m\"filtered_ids are\"\u001b[0m\u001b[0;34m,\u001b[0m \u001b[0mfiltered_ids\u001b[0m\u001b[0;34m)\u001b[0m\u001b[0;34m\u001b[0m\u001b[0;34m\u001b[0m\u001b[0m\n\u001b[1;32m      8\u001b[0m \u001b[0mprint\u001b[0m\u001b[0;34m(\u001b[0m\u001b[0mlen\u001b[0m\u001b[0;34m(\u001b[0m\u001b[0mfiltered_ids\u001b[0m\u001b[0;34m)\u001b[0m\u001b[0;34m)\u001b[0m\u001b[0;34m\u001b[0m\u001b[0;34m\u001b[0m\u001b[0m\n",
      "\u001b[0;32m~/Desktop/apperception/apperception/world.py\u001b[0m in \u001b[0;36mexecute\u001b[0;34m(self)\u001b[0m\n\u001b[1;32m    131\u001b[0m         \u001b[0;32melse\u001b[0m\u001b[0;34m:\u001b[0m\u001b[0;34m\u001b[0m\u001b[0;34m\u001b[0m\u001b[0m\n\u001b[1;32m    132\u001b[0m             \u001b[0mworld_executor\u001b[0m\u001b[0;34m.\u001b[0m\u001b[0mconnect_db\u001b[0m\u001b[0;34m(\u001b[0m\u001b[0muser\u001b[0m\u001b[0;34m=\u001b[0m\u001b[0;34m\"docker\"\u001b[0m\u001b[0;34m,\u001b[0m \u001b[0mpassword\u001b[0m\u001b[0;34m=\u001b[0m\u001b[0;34m\"docker\"\u001b[0m\u001b[0;34m,\u001b[0m \u001b[0mdatabase_name\u001b[0m\u001b[0;34m=\u001b[0m\u001b[0;34m\"mobilitydb\"\u001b[0m\u001b[0;34m)\u001b[0m\u001b[0;34m\u001b[0m\u001b[0;34m\u001b[0m\u001b[0m\n\u001b[0;32m--> 133\u001b[0;31m         \u001b[0;32mreturn\u001b[0m \u001b[0mworld_executor\u001b[0m\u001b[0;34m.\u001b[0m\u001b[0mexecute\u001b[0m\u001b[0;34m(\u001b[0m\u001b[0;34m)\u001b[0m\u001b[0;34m\u001b[0m\u001b[0;34m\u001b[0m\u001b[0m\n\u001b[0m\u001b[1;32m    134\u001b[0m \u001b[0;34m\u001b[0m\u001b[0m\n\u001b[1;32m    135\u001b[0m     \u001b[0;32mdef\u001b[0m \u001b[0mselect_intersection_of_interest_or_use_default\u001b[0m\u001b[0;34m(\u001b[0m\u001b[0mself\u001b[0m\u001b[0;34m,\u001b[0m \u001b[0mcam_id\u001b[0m\u001b[0;34m,\u001b[0m \u001b[0mdefault\u001b[0m\u001b[0;34m=\u001b[0m\u001b[0;32mTrue\u001b[0m\u001b[0;34m)\u001b[0m\u001b[0;34m:\u001b[0m\u001b[0;34m\u001b[0m\u001b[0;34m\u001b[0m\u001b[0m\n",
      "\u001b[0;32m~/Desktop/apperception/apperception/world_executor.py\u001b[0m in \u001b[0;36mexecute\u001b[0;34m(self)\u001b[0m\n\u001b[1;32m    109\u001b[0m \u001b[0;34m\u001b[0m\u001b[0m\n\u001b[1;32m    110\u001b[0m         \u001b[0mmetadata_executor\u001b[0m \u001b[0;34m=\u001b[0m \u001b[0mMetadataContextExecutor\u001b[0m\u001b[0;34m(\u001b[0m\u001b[0mself\u001b[0m\u001b[0;34m.\u001b[0m\u001b[0mconn\u001b[0m\u001b[0;34m,\u001b[0m \u001b[0mself\u001b[0m\u001b[0;34m.\u001b[0m\u001b[0mcurr_world\u001b[0m\u001b[0;34m.\u001b[0m\u001b[0mMetadataContext\u001b[0m\u001b[0;34m)\u001b[0m\u001b[0;34m\u001b[0m\u001b[0;34m\u001b[0m\u001b[0m\n\u001b[0;32m--> 111\u001b[0;31m         \u001b[0;32mreturn\u001b[0m \u001b[0mmetadata_executor\u001b[0m\u001b[0;34m.\u001b[0m\u001b[0mexecute\u001b[0m\u001b[0;34m(\u001b[0m\u001b[0;34m)\u001b[0m\u001b[0;34m\u001b[0m\u001b[0;34m\u001b[0m\u001b[0m\n\u001b[0m\u001b[1;32m    112\u001b[0m \u001b[0;34m\u001b[0m\u001b[0m\n\u001b[1;32m    113\u001b[0m \u001b[0;32mdef\u001b[0m \u001b[0mcreate_transform_matrix\u001b[0m\u001b[0;34m(\u001b[0m\u001b[0mfocal_x\u001b[0m\u001b[0;34m,\u001b[0m \u001b[0mfocal_y\u001b[0m\u001b[0;34m,\u001b[0m \u001b[0mcam_x\u001b[0m\u001b[0;34m,\u001b[0m \u001b[0mcam_y\u001b[0m\u001b[0;34m,\u001b[0m \u001b[0mskew_factor\u001b[0m\u001b[0;34m)\u001b[0m\u001b[0;34m:\u001b[0m\u001b[0;34m\u001b[0m\u001b[0;34m\u001b[0m\u001b[0m\n",
      "\u001b[0;32m~/Desktop/apperception/apperception/metadata_context_executor.py\u001b[0m in \u001b[0;36mexecute\u001b[0;34m(self, create_view, view_name)\u001b[0m\n\u001b[1;32m    104\u001b[0m     \u001b[0;32mdef\u001b[0m \u001b[0mexecute\u001b[0m\u001b[0;34m(\u001b[0m\u001b[0mself\u001b[0m\u001b[0;34m,\u001b[0m \u001b[0mcreate_view\u001b[0m \u001b[0;34m=\u001b[0m \u001b[0;32mFalse\u001b[0m\u001b[0;34m,\u001b[0m \u001b[0mview_name\u001b[0m\u001b[0;34m=\u001b[0m\u001b[0;34m\"\"\u001b[0m\u001b[0;34m)\u001b[0m\u001b[0;34m:\u001b[0m\u001b[0;34m\u001b[0m\u001b[0;34m\u001b[0m\u001b[0m\n\u001b[1;32m    105\u001b[0m         \u001b[0mself\u001b[0m\u001b[0;34m.\u001b[0m\u001b[0mcursor\u001b[0m \u001b[0;34m=\u001b[0m \u001b[0mself\u001b[0m\u001b[0;34m.\u001b[0m\u001b[0mconn\u001b[0m\u001b[0;34m.\u001b[0m\u001b[0mcursor\u001b[0m\u001b[0;34m(\u001b[0m\u001b[0;34m)\u001b[0m\u001b[0;34m\u001b[0m\u001b[0;34m\u001b[0m\u001b[0m\n\u001b[0;32m--> 106\u001b[0;31m         \u001b[0mself\u001b[0m\u001b[0;34m.\u001b[0m\u001b[0mcursor\u001b[0m\u001b[0;34m.\u001b[0m\u001b[0mexecute\u001b[0m\u001b[0;34m(\u001b[0m\u001b[0mself\u001b[0m\u001b[0;34m.\u001b[0m\u001b[0mvisit\u001b[0m\u001b[0;34m(\u001b[0m\u001b[0mcreate_view\u001b[0m\u001b[0;34m=\u001b[0m\u001b[0mcreate_view\u001b[0m\u001b[0;34m,\u001b[0m \u001b[0mview_name\u001b[0m\u001b[0;34m=\u001b[0m\u001b[0mview_name\u001b[0m\u001b[0;34m)\u001b[0m\u001b[0;34m)\u001b[0m\u001b[0;34m\u001b[0m\u001b[0;34m\u001b[0m\u001b[0m\n\u001b[0m\u001b[1;32m    107\u001b[0m         \u001b[0;32mreturn\u001b[0m \u001b[0mnp\u001b[0m\u001b[0;34m.\u001b[0m\u001b[0masarray\u001b[0m\u001b[0;34m(\u001b[0m\u001b[0mself\u001b[0m\u001b[0;34m.\u001b[0m\u001b[0mcursor\u001b[0m\u001b[0;34m.\u001b[0m\u001b[0mfetchall\u001b[0m\u001b[0;34m(\u001b[0m\u001b[0;34m)\u001b[0m\u001b[0;34m)\u001b[0m\u001b[0;34m\u001b[0m\u001b[0;34m\u001b[0m\u001b[0m\n\u001b[1;32m    108\u001b[0m \u001b[0;34m\u001b[0m\u001b[0m\n",
      "\u001b[0;31mUndefinedFunction\u001b[0m: function overlap(stbox, stbox) does not exist\nLINE 1: ...here Item_General_Trajectory.objectType='car' AND overlap(Ge...\n                                                             ^\nHINT:  No function matches the given name and argument types. You might need to add explicit type casts.\n"
     ]
    }
   ],
   "source": [
    "volume = traffic_world.select_intersection_of_interest_or_use_default(cam_id=cam_id)\n",
    "filtered_world = traffic_world.predicate(lambda obj:obj.object_type == \"car\").predicate(lambda obj:obj.location in volume, {\"volume\":volume})\n",
    "filtered_world = filtered_world.interval([0,fps*4])\n",
    " \n",
    "### to get the trajectory and the video over the entire trajectory(amber case)\n",
    "filtered_ids = filtered_world.selectkey(distinct = True).execute()\n",
    "print(\"filtered_ids are\", filtered_ids)\n",
    "print(len(filtered_ids))\n",
    "if len(filtered_ids)>0:\n",
    "    id_array = [e[0] for e in filtered_ids]\n",
    "    ### Fetch the trajectory of these items\n",
    "    trajectory = traffic_world.predicate(lambda obj: obj.object_id in id_array, {\"id_array\":id_array}).get_trajectory(distinct=True).execute()\n",
    "    traffic_world.overlay_trajectory(cam_id, trajectory)\n",
    "    ### Get the videos of these items\n",
    "    entire_video = traffic_world.predicate(lambda obj: obj.object_id in id_array, {\"id_array\":id_array}).get_video()\n",
    "    entire_video.execute()"
   ]
  },
  {
   "cell_type": "code",
   "execution_count": null,
   "id": "7dd5909f",
   "metadata": {},
   "outputs": [],
   "source": []
  }
 ],
 "metadata": {
  "celltoolbar": "Raw Cell Format",
  "kernelspec": {
   "display_name": "Python 3 (ipykernel)",
   "language": "python",
   "name": "python3"
  },
  "language_info": {
   "codemirror_mode": {
    "name": "ipython",
    "version": 3
   },
   "file_extension": ".py",
   "mimetype": "text/x-python",
   "name": "python",
   "nbconvert_exporter": "python",
   "pygments_lexer": "ipython3",
   "version": "3.8.5"
  }
 },
 "nbformat": 4,
 "nbformat_minor": 5
}
